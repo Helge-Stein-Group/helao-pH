{
 "cells": [
  {
   "cell_type": "code",
   "execution_count": 1,
   "metadata": {},
   "outputs": [],
   "source": [
    "from pykafka import KafkaClient\n",
    "from pykafka.common import OffsetType\n",
    "import time\n"
   ]
  },
  {
   "cell_type": "code",
   "execution_count": 2,
   "metadata": {},
   "outputs": [],
   "source": [
    "client = KafkaClient(\"127.0.0.1:9092\")"
   ]
  },
  {
   "cell_type": "code",
   "execution_count": 3,
   "metadata": {},
   "outputs": [],
   "source": [
    "def get_messages(topicname):\n",
    "    consumer = client.topics[topicname].get_simple_consumer(auto_offset_reset=OffsetType.LATEST, reset_offset_on_start=True)\n",
    "    offsets = [(p, op.last_offset_consumed)\n",
    "           for p, op in consumer._partitions.items()]\n",
    "    offsets = [(p, (o if o > -1 else -2)) for p, o in offsets]\n",
    "    consumer.reset_offsets(offsets)\n",
    "    def events():\n",
    "        for message in consumer:\n",
    "            msg = f\"{message.value.decode()}\"\n",
    "            if msg!='stop':\n",
    "                yield msg\n",
    "            else:\n",
    "                print('stopping')\n",
    "                break\n",
    "    return events()"
   ]
  },
  {
   "cell_type": "code",
   "execution_count": 4,
   "metadata": {},
   "outputs": [
    {
     "output_type": "stream",
     "name": "stdout",
     "text": "only checking new messages\nthis will stop when the published message is 'stop'\notherwise it will keep listening\nstopping\n"
    }
   ],
   "source": [
    "for x in get_messages(\"test\"):\n",
    "    print(x)"
   ]
  },
  {
   "cell_type": "code",
   "execution_count": null,
   "metadata": {},
   "outputs": [],
   "source": []
  }
 ],
 "metadata": {
  "language_info": {
   "codemirror_mode": {
    "name": "ipython",
    "version": 3
   },
   "file_extension": ".py",
   "mimetype": "text/x-python",
   "name": "python",
   "nbconvert_exporter": "python",
   "pygments_lexer": "ipython3",
   "version": "3.7.7-final"
  },
  "orig_nbformat": 2,
  "kernelspec": {
   "name": "python37764bithelaocondaf9cf9bf74b7a4d6389d692d81abb42ae",
   "display_name": "Python 3.7.7 64-bit ('helao': conda)"
  }
 },
 "nbformat": 4,
 "nbformat_minor": 2
}